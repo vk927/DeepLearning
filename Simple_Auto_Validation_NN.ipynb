{
 "cells": [
  {
   "cell_type": "code",
   "execution_count": 1,
   "metadata": {
    "collapsed": false
   },
   "outputs": [
    {
     "name": "stderr",
     "output_type": "stream",
     "text": [
      "Using Theano backend.\n",
      "WARNING (theano.configdefaults): g++ not detected ! Theano will be unable to execute optimized C-implementations (for both CPU and GPU) and will default to Python implementations. Performance will be severely degraded. To remove this warning, set Theano flags cxx to an empty string.\n"
     ]
    }
   ],
   "source": [
    "from keras.models import Sequential\n",
    "from keras.layers import Dense\n",
    "import numpy as np"
   ]
  },
  {
   "cell_type": "code",
   "execution_count": 2,
   "metadata": {
    "collapsed": true
   },
   "outputs": [],
   "source": [
    "dataset = np.loadtxt(\"C:\\\\Users\\\\venkata_kalluri\\\\Desktop\\\\deep\\\\pima-indians-diabetes.csv\", delimiter=\",\")\n",
    "# split into input (X) and output (Y) variables\n",
    "X = dataset[:,0:8]\n",
    "Y = dataset[:,8]"
   ]
  },
  {
   "cell_type": "code",
   "execution_count": 3,
   "metadata": {
    "collapsed": true
   },
   "outputs": [],
   "source": [
    "model = Sequential()\n",
    "model.add(Dense(12, input_dim=8, init='uniform', activation='relu'))\n",
    "model.add(Dense(8, init='uniform', activation='relu'))\n",
    "model.add(Dense(1, init='uniform', activation='sigmoid'))"
   ]
  },
  {
   "cell_type": "code",
   "execution_count": 4,
   "metadata": {
    "collapsed": true
   },
   "outputs": [],
   "source": [
    "model.compile(loss='binary_crossentropy', optimizer='adam', metrics=['accuracy'])\n",
    "\n"
   ]
  },
  {
   "cell_type": "code",
   "execution_count": 11,
   "metadata": {
    "collapsed": false
   },
   "outputs": [
    {
     "name": "stdout",
     "output_type": "stream",
     "text": [
      "Train on 514 samples, validate on 254 samples\n",
      "Epoch 1/10\n",
      "514/514 [==============================] - 0s - loss: 0.5712 - acc: 0.6946 - val_loss: 0.5237 - val_acc: 0.7559\n",
      "Epoch 2/10\n",
      "514/514 [==============================] - 0s - loss: 0.5557 - acc: 0.7198 - val_loss: 0.5295 - val_acc: 0.7480\n",
      "Epoch 3/10\n",
      "514/514 [==============================] - 0s - loss: 0.5520 - acc: 0.7179 - val_loss: 0.5182 - val_acc: 0.7402\n",
      "Epoch 4/10\n",
      "514/514 [==============================] - 0s - loss: 0.5491 - acc: 0.7335 - val_loss: 0.5188 - val_acc: 0.7520\n",
      "Epoch 5/10\n",
      "514/514 [==============================] - 0s - loss: 0.5495 - acc: 0.7354 - val_loss: 0.5209 - val_acc: 0.7244\n",
      "Epoch 6/10\n",
      "514/514 [==============================] - 0s - loss: 0.5477 - acc: 0.7335 - val_loss: 0.5185 - val_acc: 0.7441\n",
      "Epoch 7/10\n",
      "514/514 [==============================] - 0s - loss: 0.5458 - acc: 0.7354 - val_loss: 0.5185 - val_acc: 0.7441\n",
      "Epoch 8/10\n",
      "514/514 [==============================] - 0s - loss: 0.5548 - acc: 0.7218 - val_loss: 0.5235 - val_acc: 0.7402\n",
      "Epoch 9/10\n",
      "514/514 [==============================] - 0s - loss: 0.5485 - acc: 0.7374 - val_loss: 0.5219 - val_acc: 0.7205\n",
      "Epoch 10/10\n",
      "514/514 [==============================] - 0s - loss: 0.5473 - acc: 0.7237 - val_loss: 0.5279 - val_acc: 0.7441\n"
     ]
    },
    {
     "data": {
      "text/plain": [
       "<keras.callbacks.History at 0xa045400>"
      ]
     },
     "execution_count": 11,
     "metadata": {},
     "output_type": "execute_result"
    }
   ],
   "source": [
    "model.fit(X, Y,validation_split=0.33, nb_epoch=10)"
   ]
  },
  {
   "cell_type": "code",
   "execution_count": null,
   "metadata": {
    "collapsed": true
   },
   "outputs": [],
   "source": []
  }
 ],
 "metadata": {
  "anaconda-cloud": {},
  "kernelspec": {
   "display_name": "Python [Root]",
   "language": "python",
   "name": "Python [Root]"
  },
  "language_info": {
   "codemirror_mode": {
    "name": "ipython",
    "version": 2
   },
   "file_extension": ".py",
   "mimetype": "text/x-python",
   "name": "python",
   "nbconvert_exporter": "python",
   "pygments_lexer": "ipython2",
   "version": "2.7.12"
  }
 },
 "nbformat": 4,
 "nbformat_minor": 0
}
