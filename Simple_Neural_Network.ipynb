{
 "cells": [
  {
   "cell_type": "code",
   "execution_count": 8,
   "metadata": {
    "collapsed": false
   },
   "outputs": [],
   "source": [
    "from keras.models import Sequential\n",
    "from keras.layers import Dense\n",
    "import numpy as np\n",
    "import pandas as pd"
   ]
  },
  {
   "cell_type": "code",
   "execution_count": 9,
   "metadata": {
    "collapsed": true
   },
   "outputs": [],
   "source": [
    "seed = 7\n",
    "numpy.random.seed(seed)"
   ]
  },
  {
   "cell_type": "code",
   "execution_count": 16,
   "metadata": {
    "collapsed": false
   },
   "outputs": [],
   "source": [
    "dataset = np.loadtxt(\"C:\\\\Users\\\\venkata_kalluri\\\\Desktop\\\\deep\\\\pima-indians-diabetes.csv\", delimiter=\",\")\n",
    "# split into input (X) and output (Y) variables\n",
    "X = dataset[:,0:8]\n",
    "Y = dataset[:,8]"
   ]
  },
  {
   "cell_type": "code",
   "execution_count": 18,
   "metadata": {
    "collapsed": false
   },
   "outputs": [
    {
     "data": {
      "text/plain": [
       "array([[   6.   ,  148.   ,   72.   , ...,   33.6  ,    0.627,   50.   ],\n",
       "       [   1.   ,   85.   ,   66.   , ...,   26.6  ,    0.351,   31.   ],\n",
       "       [   8.   ,  183.   ,   64.   , ...,   23.3  ,    0.672,   32.   ],\n",
       "       ..., \n",
       "       [   5.   ,  121.   ,   72.   , ...,   26.2  ,    0.245,   30.   ],\n",
       "       [   1.   ,  126.   ,   60.   , ...,   30.1  ,    0.349,   47.   ],\n",
       "       [   1.   ,   93.   ,   70.   , ...,   30.4  ,    0.315,   23.   ]])"
      ]
     },
     "execution_count": 18,
     "metadata": {},
     "output_type": "execute_result"
    }
   ],
   "source": [
    "X"
   ]
  },
  {
   "cell_type": "code",
   "execution_count": 19,
   "metadata": {
    "collapsed": true
   },
   "outputs": [],
   "source": [
    "model = Sequential()\n",
    "model.add(Dense(12, input_dim=8, init='uniform', activation='relu'))\n",
    "model.add(Dense(8, init='uniform', activation='relu'))\n",
    "model.add(Dense(1, init='uniform', activation='sigmoid'))"
   ]
  },
  {
   "cell_type": "code",
   "execution_count": 20,
   "metadata": {
    "collapsed": true
   },
   "outputs": [],
   "source": [
    "model.compile(loss='binary_crossentropy', optimizer='adam', metrics=['accuracy'])"
   ]
  },
  {
   "cell_type": "code",
   "execution_count": 22,
   "metadata": {
    "collapsed": false
   },
   "outputs": [
    {
     "name": "stdout",
     "output_type": "stream",
     "text": [
      "Epoch 1/15\n",
      "768/768 [==============================] - 2s - loss: 0.6529 - acc: 0.6523     \n",
      "Epoch 2/15\n",
      "768/768 [==============================] - 2s - loss: 0.6388 - acc: 0.6589     \n",
      "Epoch 3/15\n",
      "768/768 [==============================] - 2s - loss: 0.6247 - acc: 0.6602     \n",
      "Epoch 4/15\n",
      "768/768 [==============================] - 2s - loss: 0.6152 - acc: 0.6797     \n",
      "Epoch 5/15\n",
      "768/768 [==============================] - 2s - loss: 0.6073 - acc: 0.6771     \n",
      "Epoch 6/15\n",
      "768/768 [==============================] - 2s - loss: 0.5998 - acc: 0.6784     \n",
      "Epoch 7/15\n",
      "768/768 [==============================] - 2s - loss: 0.5996 - acc: 0.6953     \n",
      "Epoch 8/15\n",
      "768/768 [==============================] - 2s - loss: 0.5943 - acc: 0.6797     \n",
      "Epoch 9/15\n",
      "768/768 [==============================] - 2s - loss: 0.5907 - acc: 0.6849     \n",
      "Epoch 10/15\n",
      "768/768 [==============================] - 2s - loss: 0.5923 - acc: 0.6823     \n",
      "Epoch 11/15\n",
      "768/768 [==============================] - 2s - loss: 0.5944 - acc: 0.6810     \n",
      "Epoch 12/15\n",
      "768/768 [==============================] - 2s - loss: 0.5851 - acc: 0.7018     \n",
      "Epoch 13/15\n",
      "768/768 [==============================] - 2s - loss: 0.5873 - acc: 0.6901     \n",
      "Epoch 14/15\n",
      "768/768 [==============================] - 2s - loss: 0.5864 - acc: 0.6836     \n",
      "Epoch 15/15\n",
      "768/768 [==============================] - 2s - loss: 0.5816 - acc: 0.6927     \n"
     ]
    },
    {
     "data": {
      "text/plain": [
       "<keras.callbacks.History at 0xcbd7ba8>"
      ]
     },
     "execution_count": 22,
     "metadata": {},
     "output_type": "execute_result"
    }
   ],
   "source": [
    "model.fit(X, Y, nb_epoch=15, batch_size=10)"
   ]
  },
  {
   "cell_type": "code",
   "execution_count": 23,
   "metadata": {
    "collapsed": false
   },
   "outputs": [
    {
     "name": "stdout",
     "output_type": "stream",
     "text": [
      "768/768 [==============================] - 0s     \n",
      "acc: 69.27%\n"
     ]
    }
   ],
   "source": [
    "scores = model.evaluate(X, Y)\n",
    "print(\"%s: %.2f%%\" % (model.metrics_names[1], scores[1]*100))"
   ]
  },
  {
   "cell_type": "code",
   "execution_count": null,
   "metadata": {
    "collapsed": true
   },
   "outputs": [],
   "source": []
  }
 ],
 "metadata": {
  "anaconda-cloud": {},
  "kernelspec": {
   "display_name": "Python [Root]",
   "language": "python",
   "name": "Python [Root]"
  },
  "language_info": {
   "codemirror_mode": {
    "name": "ipython",
    "version": 2
   },
   "file_extension": ".py",
   "mimetype": "text/x-python",
   "name": "python",
   "nbconvert_exporter": "python",
   "pygments_lexer": "ipython2",
   "version": "2.7.12"
  }
 },
 "nbformat": 4,
 "nbformat_minor": 0
}
