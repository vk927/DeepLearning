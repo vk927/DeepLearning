{
 "cells": [
  {
   "cell_type": "code",
   "execution_count": 5,
   "metadata": {
    "collapsed": false
   },
   "outputs": [],
   "source": [
    "from keras.models import Sequential\n",
    "from keras.layers import Dense\n",
    "from keras.wrappers.scikit_learn import KerasClassifier\n",
    "from sklearn.model_selection import StratifiedKFold\n",
    "from sklearn.model_selection import cross_val_score\n",
    "import numpy as np"
   ]
  },
  {
   "cell_type": "code",
   "execution_count": 2,
   "metadata": {
    "collapsed": true
   },
   "outputs": [],
   "source": [
    "def create_model():\n",
    "    model = Sequential()\n",
    "    model.add(Dense(12, input_dim=8, init='uniform', activation='relu'))\n",
    "    model.add(Dense(8, init='uniform', activation='relu'))\n",
    "    model.add(Dense(1, init='uniform', activation='sigmoid'))\n",
    "    model.compile(loss='binary_crossentropy', optimizer='adam', metrics=['accuracy'])\n",
    "    return model"
   ]
  },
  {
   "cell_type": "code",
   "execution_count": 6,
   "metadata": {
    "collapsed": false
   },
   "outputs": [],
   "source": [
    "dataset = np.loadtxt(\"C:\\\\Users\\\\venkata_kalluri\\\\Desktop\\\\deep\\\\pima-indians-diabetes.csv\", delimiter=\",\")\n",
    "# Split into X and Y \n",
    "X = dataset[:,0:8]\n",
    "Y = dataset[:,8]"
   ]
  },
  {
   "cell_type": "code",
   "execution_count": 11,
   "metadata": {
    "collapsed": true
   },
   "outputs": [],
   "source": [
    "model = KerasClassifier(build_fn=create_model, nb_epoch=10)\n",
    "model = KerasClassifier(build_fn=create_model, nb_epoch=10,verbose=0)"
   ]
  },
  {
   "cell_type": "code",
   "execution_count": 9,
   "metadata": {
    "collapsed": false
   },
   "outputs": [
    {
     "name": "stdout",
     "output_type": "stream",
     "text": [
      "0.648427890146\n"
     ]
    }
   ],
   "source": [
    "kfold = StratifiedKFold(n_splits=10, shuffle=True, random_state=0)\n",
    "results = cross_val_score(model, X, Y, cv=kfold)\n",
    "print(results.mean())"
   ]
  },
  {
   "cell_type": "code",
   "execution_count": 12,
   "metadata": {
    "collapsed": false
   },
   "outputs": [
    {
     "name": "stdout",
     "output_type": "stream",
     "text": [
      "Train on 514 samples, validate on 254 samples\n",
      "Epoch 1/10\n",
      "514/514 [==============================] - 0s - loss: 0.6926 - acc: 0.5486 - val_loss: 0.6886 - val_acc: 0.6732\n",
      "Epoch 2/10\n",
      "514/514 [==============================] - 0s - loss: 0.6871 - acc: 0.6401 - val_loss: 0.6804 - val_acc: 0.6732\n",
      "Epoch 3/10\n",
      "514/514 [==============================] - 0s - loss: 0.6799 - acc: 0.6401 - val_loss: 0.6671 - val_acc: 0.6732\n",
      "Epoch 4/10\n",
      "514/514 [==============================] - 0s - loss: 0.6712 - acc: 0.6401 - val_loss: 0.6590 - val_acc: 0.6732\n",
      "Epoch 5/10\n",
      "514/514 [==============================] - 0s - loss: 0.6657 - acc: 0.6401 - val_loss: 0.6529 - val_acc: 0.6732\n",
      "Epoch 6/10\n",
      "514/514 [==============================] - 0s - loss: 0.6654 - acc: 0.6401 - val_loss: 0.6496 - val_acc: 0.6811\n",
      "Epoch 7/10\n",
      "514/514 [==============================] - 0s - loss: 0.6589 - acc: 0.6420 - val_loss: 0.6486 - val_acc: 0.6772\n",
      "Epoch 8/10\n",
      "514/514 [==============================] - 0s - loss: 0.6545 - acc: 0.6401 - val_loss: 0.6455 - val_acc: 0.6732\n",
      "Epoch 9/10\n",
      "514/514 [==============================] - 0s - loss: 0.6517 - acc: 0.6401 - val_loss: 0.6444 - val_acc: 0.6772\n",
      "Epoch 10/10\n",
      "514/514 [==============================] - 0s - loss: 0.6446 - acc: 0.6479 - val_loss: 0.6372 - val_acc: 0.6850\n"
     ]
    },
    {
     "data": {
      "text/plain": [
       "<keras.callbacks.History at 0xbf7f6a0>"
      ]
     },
     "execution_count": 12,
     "metadata": {},
     "output_type": "execute_result"
    }
   ],
   "source": [
    "model.fit(X, Y,validation_split=0.33, nb_epoch=10)"
   ]
  },
  {
   "cell_type": "code",
   "execution_count": null,
   "metadata": {
    "collapsed": true
   },
   "outputs": [],
   "source": []
  }
 ],
 "metadata": {
  "kernelspec": {
   "display_name": "Python [Root]",
   "language": "python",
   "name": "Python [Root]"
  },
  "language_info": {
   "codemirror_mode": {
    "name": "ipython",
    "version": 2
   },
   "file_extension": ".py",
   "mimetype": "text/x-python",
   "name": "python",
   "nbconvert_exporter": "python",
   "pygments_lexer": "ipython2",
   "version": "2.7.12"
  }
 },
 "nbformat": 4,
 "nbformat_minor": 0
}
