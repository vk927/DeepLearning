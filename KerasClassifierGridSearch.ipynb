{
 "cells": [
  {
   "cell_type": "code",
   "execution_count": 1,
   "metadata": {
    "collapsed": false
   },
   "outputs": [
    {
     "name": "stderr",
     "output_type": "stream",
     "text": [
      "Using Theano backend.\n",
      "WARNING (theano.configdefaults): g++ not detected ! Theano will be unable to execute optimized C-implementations (for both CPU and GPU) and will default to Python implementations. Performance will be severely degraded. To remove this warning, set Theano flags cxx to an empty string.\n"
     ]
    }
   ],
   "source": [
    "from keras.models import Sequential\n",
    "from keras.layers import Dense\n",
    "from keras.wrappers.scikit_learn import KerasClassifier\n",
    "from sklearn.model_selection import StratifiedKFold\n",
    "from sklearn.model_selection import GridSearchCV\n",
    "import numpy as np"
   ]
  },
  {
   "cell_type": "code",
   "execution_count": 2,
   "metadata": {
    "collapsed": true
   },
   "outputs": [],
   "source": [
    "def create_model(optimizer='rmsprop', init='glorot_uniform'):\n",
    "    model = Sequential()\n",
    "    model.add(Dense(12, input_dim=8, init=init, activation='relu'))\n",
    "    model.add(Dense(8, init=init, activation='relu'))\n",
    "    model.add(Dense(1, init=init, activation='sigmoid'))\n",
    "    model.compile(loss='binary_crossentropy', optimizer=optimizer, metrics=['accuracy'])\n",
    "    return model"
   ]
  },
  {
   "cell_type": "code",
   "execution_count": 3,
   "metadata": {
    "collapsed": true
   },
   "outputs": [],
   "source": [
    "dataset = np.loadtxt(\"C:\\\\Users\\\\venkata_kalluri\\\\Desktop\\\\deep\\\\pima-indians-diabetes.csv\", delimiter=\",\")\n",
    "# Split into X and Y \n",
    "X = dataset[:,0:8]\n",
    "Y = dataset[:,8]"
   ]
  },
  {
   "cell_type": "code",
   "execution_count": 4,
   "metadata": {
    "collapsed": true
   },
   "outputs": [],
   "source": [
    "model = KerasClassifier(build_fn=create_model, verbose=0)"
   ]
  },
  {
   "cell_type": "code",
   "execution_count": 5,
   "metadata": {
    "collapsed": true
   },
   "outputs": [],
   "source": [
    "# grid search epochs, batch size and optimizer\n",
    "optimizers = ['rmsprop', 'adam']\n",
    "init = ['glorot_uniform', 'normal', 'uniform']\n",
    "epochs = [2,5,10]\n",
    "batches = [2,10]"
   ]
  },
  {
   "cell_type": "code",
   "execution_count": 6,
   "metadata": {
    "collapsed": true
   },
   "outputs": [],
   "source": [
    "#param_grid = dict(optimizer=optimizers, nb_epoch=epochs, batch_size=batches, init=init)\n",
    "\n",
    "param_grid = dict(optimizer=optimizers, nb_epoch=epochs, init=init)\n"
   ]
  },
  {
   "cell_type": "code",
   "execution_count": 7,
   "metadata": {
    "collapsed": true
   },
   "outputs": [],
   "source": [
    "grid = GridSearchCV(estimator=model, param_grid=param_grid)\n",
    "grid_result = grid.fit(X, Y)\n"
   ]
  },
  {
   "cell_type": "code",
   "execution_count": 14,
   "metadata": {
    "collapsed": false
   },
   "outputs": [
    {
     "name": "stdout",
     "output_type": "stream",
     "text": [
      "mean: 0.61849, std: 0.02876, params: {'init': 'glorot_uniform', 'optimizer': 'rmsprop', 'nb_epoch': 2}\n",
      "mean: 0.46615, std: 0.05901, params: {'init': 'glorot_uniform', 'optimizer': 'adam', 'nb_epoch': 2}\n",
      "mean: 0.46745, std: 0.12041, params: {'init': 'glorot_uniform', 'optimizer': 'rmsprop', 'nb_epoch': 5}\n",
      "mean: 0.57031, std: 0.12512, params: {'init': 'glorot_uniform', 'optimizer': 'adam', 'nb_epoch': 5}\n",
      "mean: 0.64974, std: 0.01949, params: {'init': 'glorot_uniform', 'optimizer': 'rmsprop', 'nb_epoch': 10}\n",
      "mean: 0.55339, std: 0.04283, params: {'init': 'glorot_uniform', 'optimizer': 'adam', 'nb_epoch': 10}\n",
      "mean: 0.65104, std: 0.02477, params: {'init': 'normal', 'optimizer': 'rmsprop', 'nb_epoch': 2}\n",
      "mean: 0.65104, std: 0.02477, params: {'init': 'normal', 'optimizer': 'adam', 'nb_epoch': 2}\n",
      "mean: 0.65104, std: 0.02477, params: {'init': 'normal', 'optimizer': 'rmsprop', 'nb_epoch': 5}\n",
      "mean: 0.65104, std: 0.02713, params: {'init': 'normal', 'optimizer': 'adam', 'nb_epoch': 5}\n",
      "mean: 0.65104, std: 0.02675, params: {'init': 'normal', 'optimizer': 'rmsprop', 'nb_epoch': 10}\n",
      "mean: 0.64844, std: 0.02532, params: {'init': 'normal', 'optimizer': 'adam', 'nb_epoch': 10}\n",
      "mean: 0.65104, std: 0.02477, params: {'init': 'uniform', 'optimizer': 'rmsprop', 'nb_epoch': 2}\n",
      "mean: 0.65104, std: 0.02477, params: {'init': 'uniform', 'optimizer': 'adam', 'nb_epoch': 2}\n",
      "mean: 0.65365, std: 0.02750, params: {'init': 'uniform', 'optimizer': 'rmsprop', 'nb_epoch': 5}\n",
      "mean: 0.65365, std: 0.02750, params: {'init': 'uniform', 'optimizer': 'adam', 'nb_epoch': 5}\n",
      "mean: 0.65365, std: 0.02750, params: {'init': 'uniform', 'optimizer': 'rmsprop', 'nb_epoch': 10}\n",
      "mean: 0.66016, std: 0.01940, params: {'init': 'uniform', 'optimizer': 'adam', 'nb_epoch': 10}\n",
      "************************************************************************************8\n",
      "best score is  0.66015625 with params  {'init': 'uniform', 'optimizer': 'adam', 'nb_epoch': 10}\n"
     ]
    },
    {
     "name": "stderr",
     "output_type": "stream",
     "text": [
      "C:\\Anaconda2\\lib\\site-packages\\sklearn\\model_selection\\_search.py:662: DeprecationWarning: The grid_scores_ attribute was deprecated in version 0.18 in favor of the more elaborate cv_results_ attribute. The grid_scores_ attribute will not be available from 0.20\n",
      "  DeprecationWarning)\n"
     ]
    }
   ],
   "source": [
    "for score in grid_result.grid_scores_:\n",
    "    print score\n",
    "    \n",
    "print '************************************************************************************8'\n",
    "\n",
    "print 'best score is ',grid_result.best_score_,'with params ',grid_result.best_params_\n"
   ]
  },
  {
   "cell_type": "code",
   "execution_count": null,
   "metadata": {
    "collapsed": true
   },
   "outputs": [],
   "source": []
  }
 ],
 "metadata": {
  "kernelspec": {
   "display_name": "Python [Root]",
   "language": "python",
   "name": "Python [Root]"
  },
  "language_info": {
   "codemirror_mode": {
    "name": "ipython",
    "version": 2
   },
   "file_extension": ".py",
   "mimetype": "text/x-python",
   "name": "python",
   "nbconvert_exporter": "python",
   "pygments_lexer": "ipython2",
   "version": "2.7.12"
  }
 },
 "nbformat": 4,
 "nbformat_minor": 0
}
