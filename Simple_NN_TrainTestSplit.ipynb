{
 "cells": [
  {
   "cell_type": "code",
   "execution_count": 5,
   "metadata": {
    "collapsed": false
   },
   "outputs": [],
   "source": [
    "from keras.models import Sequential\n",
    "from keras.layers import Dense\n",
    "from sklearn.model_selection import train_test_split\n",
    "import numpy as np"
   ]
  },
  {
   "cell_type": "code",
   "execution_count": 6,
   "metadata": {
    "collapsed": true
   },
   "outputs": [],
   "source": [
    "dataset = np.loadtxt(\"C:\\\\Users\\\\venkata_kalluri\\\\Desktop\\\\deep\\\\pima-indians-diabetes.csv\", delimiter=\",\")\n",
    "# split into input (X) and output (Y) variables\n",
    "X = dataset[:,0:8]\n",
    "Y = dataset[:,8]"
   ]
  },
  {
   "cell_type": "code",
   "execution_count": 3,
   "metadata": {
    "collapsed": true
   },
   "outputs": [],
   "source": [
    "model = Sequential()\n",
    "model.add(Dense(12, input_dim=8, init='uniform', activation='relu'))\n",
    "model.add(Dense(8, init='uniform', activation='relu'))\n",
    "model.add(Dense(1, init='uniform', activation='sigmoid'))"
   ]
  },
  {
   "cell_type": "code",
   "execution_count": 4,
   "metadata": {
    "collapsed": true
   },
   "outputs": [],
   "source": [
    "model.compile(loss='binary_crossentropy', optimizer='adam', metrics=['accuracy'])"
   ]
  },
  {
   "cell_type": "code",
   "execution_count": 7,
   "metadata": {
    "collapsed": true
   },
   "outputs": [],
   "source": [
    "X_train, X_test, y_train, y_test = train_test_split(X, Y, test_size=0.33, random_state=0)\n"
   ]
  },
  {
   "cell_type": "code",
   "execution_count": 8,
   "metadata": {
    "collapsed": false
   },
   "outputs": [
    {
     "name": "stdout",
     "output_type": "stream",
     "text": [
      "Train on 514 samples, validate on 254 samples\n",
      "Epoch 1/10\n",
      "514/514 [==============================] - 0s - loss: 0.6903 - acc: 0.6226 - val_loss: 0.6859 - val_acc: 0.6693\n",
      "Epoch 2/10\n",
      "514/514 [==============================] - 0s - loss: 0.6849 - acc: 0.6420 - val_loss: 0.6769 - val_acc: 0.6693\n",
      "Epoch 3/10\n",
      "514/514 [==============================] - 0s - loss: 0.6796 - acc: 0.6420 - val_loss: 0.6685 - val_acc: 0.6693\n",
      "Epoch 4/10\n",
      "514/514 [==============================] - 1s - loss: 0.6744 - acc: 0.6420 - val_loss: 0.6624 - val_acc: 0.6693\n",
      "Epoch 5/10\n",
      "514/514 [==============================] - 0s - loss: 0.6709 - acc: 0.6420 - val_loss: 0.6554 - val_acc: 0.6693\n",
      "Epoch 6/10\n",
      "514/514 [==============================] - 0s - loss: 0.6681 - acc: 0.6420 - val_loss: 0.6525 - val_acc: 0.6693\n",
      "Epoch 7/10\n",
      "514/514 [==============================] - 0s - loss: 0.6652 - acc: 0.6440 - val_loss: 0.6503 - val_acc: 0.6693\n",
      "Epoch 8/10\n",
      "514/514 [==============================] - 0s - loss: 0.6625 - acc: 0.6459 - val_loss: 0.6499 - val_acc: 0.6693\n",
      "Epoch 9/10\n",
      "514/514 [==============================] - 0s - loss: 0.6605 - acc: 0.6459 - val_loss: 0.6459 - val_acc: 0.6693\n",
      "Epoch 10/10\n",
      "514/514 [==============================] - 0s - loss: 0.6593 - acc: 0.6440 - val_loss: 0.6438 - val_acc: 0.6693\n"
     ]
    },
    {
     "data": {
      "text/plain": [
       "<keras.callbacks.History at 0xad16588>"
      ]
     },
     "execution_count": 8,
     "metadata": {},
     "output_type": "execute_result"
    }
   ],
   "source": [
    "model.fit(X_train, y_train, validation_data=(X_test,y_test), nb_epoch=10)"
   ]
  },
  {
   "cell_type": "code",
   "execution_count": null,
   "metadata": {
    "collapsed": true
   },
   "outputs": [],
   "source": []
  }
 ],
 "metadata": {
  "kernelspec": {
   "display_name": "Python [Root]",
   "language": "python",
   "name": "Python [Root]"
  },
  "language_info": {
   "codemirror_mode": {
    "name": "ipython",
    "version": 2
   },
   "file_extension": ".py",
   "mimetype": "text/x-python",
   "name": "python",
   "nbconvert_exporter": "python",
   "pygments_lexer": "ipython2",
   "version": "2.7.12"
  }
 },
 "nbformat": 4,
 "nbformat_minor": 0
}
